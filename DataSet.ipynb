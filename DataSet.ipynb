{
 "cells": [
  {
   "cell_type": "code",
   "execution_count": 1,
   "id": "e79accde-8c61-4be9-8bb8-89370bcec9f9",
   "metadata": {},
   "outputs": [],
   "source": [
    "# Importing the necessary modules\n",
    "import pandas as pd\n",
    "import numpy as np\n",
    "import os\n",
    "import shutil"
   ]
  },
  {
   "cell_type": "code",
   "execution_count": 9,
   "id": "bbb168a9-8336-4018-9e40-a9d27a260492",
   "metadata": {},
   "outputs": [],
   "source": [
    "# Read csv file\n",
    "df = pd.read_csv(r'D:\\Train\\data\\train_ship_segmentations_v2.csv')\n",
    "# Path to dataset\n",
    "data_dir = r'D:\\Train\\data\\train_v2'"
   ]
  },
  {
   "cell_type": "code",
   "execution_count": 4,
   "id": "1267fbe3-f362-4585-a4eb-b0987b89b13c",
   "metadata": {},
   "outputs": [
    {
     "data": {
      "text/html": [
       "<div>\n",
       "<style scoped>\n",
       "    .dataframe tbody tr th:only-of-type {\n",
       "        vertical-align: middle;\n",
       "    }\n",
       "\n",
       "    .dataframe tbody tr th {\n",
       "        vertical-align: top;\n",
       "    }\n",
       "\n",
       "    .dataframe thead th {\n",
       "        text-align: right;\n",
       "    }\n",
       "</style>\n",
       "<table border=\"1\" class=\"dataframe\">\n",
       "  <thead>\n",
       "    <tr style=\"text-align: right;\">\n",
       "      <th></th>\n",
       "      <th>ImageId</th>\n",
       "      <th>EncodedPixels</th>\n",
       "    </tr>\n",
       "  </thead>\n",
       "  <tbody>\n",
       "    <tr>\n",
       "      <th>0</th>\n",
       "      <td>00003e153.jpg</td>\n",
       "      <td>NaN</td>\n",
       "    </tr>\n",
       "    <tr>\n",
       "      <th>1</th>\n",
       "      <td>0001124c7.jpg</td>\n",
       "      <td>NaN</td>\n",
       "    </tr>\n",
       "    <tr>\n",
       "      <th>2</th>\n",
       "      <td>000155de5.jpg</td>\n",
       "      <td>264661 17 265429 33 266197 33 266965 33 267733...</td>\n",
       "    </tr>\n",
       "    <tr>\n",
       "      <th>3</th>\n",
       "      <td>000194a2d.jpg</td>\n",
       "      <td>360486 1 361252 4 362019 5 362785 8 363552 10 ...</td>\n",
       "    </tr>\n",
       "    <tr>\n",
       "      <th>4</th>\n",
       "      <td>000194a2d.jpg</td>\n",
       "      <td>51834 9 52602 9 53370 9 54138 9 54906 9 55674 ...</td>\n",
       "    </tr>\n",
       "  </tbody>\n",
       "</table>\n",
       "</div>"
      ],
      "text/plain": [
       "         ImageId                                      EncodedPixels\n",
       "0  00003e153.jpg                                                NaN\n",
       "1  0001124c7.jpg                                                NaN\n",
       "2  000155de5.jpg  264661 17 265429 33 266197 33 266965 33 267733...\n",
       "3  000194a2d.jpg  360486 1 361252 4 362019 5 362785 8 363552 10 ...\n",
       "4  000194a2d.jpg  51834 9 52602 9 53370 9 54138 9 54906 9 55674 ..."
      ]
     },
     "execution_count": 4,
     "metadata": {},
     "output_type": "execute_result"
    }
   ],
   "source": [
    "# Reading the first five elements in a csv file\n",
    "df.head(5)"
   ]
  },
  {
   "cell_type": "code",
   "execution_count": 6,
   "id": "86f9674f-42bf-4a1a-8992-f8e1fb2e9d2a",
   "metadata": {},
   "outputs": [
    {
     "name": "stdout",
     "output_type": "stream",
     "text": [
      "<class 'pandas.core.frame.DataFrame'>\n",
      "RangeIndex: 231723 entries, 0 to 231722\n",
      "Data columns (total 2 columns):\n",
      " #   Column         Non-Null Count   Dtype \n",
      "---  ------         --------------   ----- \n",
      " 0   ImageId        231723 non-null  object\n",
      " 1   EncodedPixels  81723 non-null   object\n",
      "dtypes: object(2)\n",
      "memory usage: 3.5+ MB\n"
     ]
    }
   ],
   "source": [
    "# Informations about a csv file\n",
    "df.info()"
   ]
  },
  {
   "cell_type": "code",
   "execution_count": 19,
   "id": "7df63800-ebcf-4dcf-bf6f-5901811d2967",
   "metadata": {},
   "outputs": [
    {
     "name": "stdout",
     "output_type": "stream",
     "text": [
      "Total records: 231723\n",
      "No ships records: 150000\n",
      "Ships records: 81723\n"
     ]
    }
   ],
   "source": [
    "# Print total elements, no ship elements, ship elements\n",
    "total_records = len(df)\n",
    "no_ship_records = df['EncodedPixels'].isna().sum()\n",
    "ship_records = total_records - no_ship_records\n",
    "print(f\"Total records: {total_records}\")\n",
    "print(f\"No ships records: {no_ship_records}\")\n",
    "print(f\"Ships records: {ship_records}\")"
   ]
  },
  {
   "cell_type": "code",
   "execution_count": 23,
   "id": "fece55eb-acf3-42a8-9c75-77fab02ebfce",
   "metadata": {},
   "outputs": [
    {
     "name": "stdout",
     "output_type": "stream",
     "text": [
      "Percent with ships 35.26753926023744\n",
      "Percent without ships 64.73246073976256\n"
     ]
    }
   ],
   "source": [
    "# Calculation and print in percentage of the image with and without ships\n",
    "percent_with_ships = (ship_records / total_records) * 100\n",
    "percent_without_ships = (no_ship_records / total_records) * 100\n",
    "print(f\"Percent with ships {percent_with_ships}\")\n",
    "print(f\"Percent without ships {percent_without_ships}\")"
   ]
  },
  {
   "cell_type": "code",
   "execution_count": 34,
   "id": "27f961c2-53b4-4de9-87d1-c56d778108a4",
   "metadata": {},
   "outputs": [
    {
     "data": {
      "text/plain": [
       "(1.9203637559921045,\n",
       " 1     27104\n",
       " 2      7674\n",
       " 3      2954\n",
       " 4      1622\n",
       " 5       925\n",
       " 6       657\n",
       " 7       406\n",
       " 8       318\n",
       " 9       243\n",
       " 10      168\n",
       " 11      144\n",
       " 12      124\n",
       " 13       75\n",
       " 14       76\n",
       " 15       66\n",
       " Name: count, dtype: int64)"
      ]
     },
     "execution_count": 34,
     "metadata": {},
     "output_type": "execute_result"
    }
   ],
   "source": [
    "# Calculation of the number of ships per image and their distribution\n",
    "ship_counts = df.dropna().groupby('ImageId').size()\n",
    "average_ships_per_image = ship_counts.mean()\n",
    "ship_counts_distribution = ship_counts.value_counts().sort_index()\n",
    "average_ships_per_image, ship_counts_distribution"
   ]
  },
  {
   "cell_type": "code",
   "execution_count": 39,
   "id": "519e23f8-de90-4046-b0b2-f74ebd8d4168",
   "metadata": {},
   "outputs": [
    {
     "name": "stderr",
     "output_type": "stream",
     "text": [
      "C:\\Users\\user1\\AppData\\Local\\Temp\\ipykernel_16936\\4039202642.py:6: MatplotlibDeprecationWarning: The get_cmap function was deprecated in Matplotlib 3.7 and will be removed two minor releases later. Use ``matplotlib.colormaps[name]`` or ``matplotlib.colormaps.get_cmap(obj)`` instead.\n",
      "  colors = plt.cm.get_cmap('tab20', len(labels))\n"
     ]
    },
    {
     "data": {
      "text/plain": [
       "([<matplotlib.axis.XTick at 0x235d757c1c0>,\n",
       "  <matplotlib.axis.XTick at 0x235d757c190>,\n",
       "  <matplotlib.axis.XTick at 0x235d75719a0>,\n",
       "  <matplotlib.axis.XTick at 0x235d75bbfd0>,\n",
       "  <matplotlib.axis.XTick at 0x235d75c5ac0>,\n",
       "  <matplotlib.axis.XTick at 0x235d75c5fd0>,\n",
       "  <matplotlib.axis.XTick at 0x235d75cdac0>,\n",
       "  <matplotlib.axis.XTick at 0x235d75d25b0>,\n",
       "  <matplotlib.axis.XTick at 0x235d75d2d00>,\n",
       "  <matplotlib.axis.XTick at 0x235d75d28b0>,\n",
       "  <matplotlib.axis.XTick at 0x235d75d7ac0>,\n",
       "  <matplotlib.axis.XTick at 0x235d75de5b0>,\n",
       "  <matplotlib.axis.XTick at 0x235d75ded00>,\n",
       "  <matplotlib.axis.XTick at 0x235d75e5b50>,\n",
       "  <matplotlib.axis.XTick at 0x235d75de220>],\n",
       " [Text(1, 0, '1'),\n",
       "  Text(2, 0, '2'),\n",
       "  Text(3, 0, '3'),\n",
       "  Text(4, 0, '4'),\n",
       "  Text(5, 0, '5'),\n",
       "  Text(6, 0, '6'),\n",
       "  Text(7, 0, '7'),\n",
       "  Text(8, 0, '8'),\n",
       "  Text(9, 0, '9'),\n",
       "  Text(10, 0, '10'),\n",
       "  Text(11, 0, '11'),\n",
       "  Text(12, 0, '12'),\n",
       "  Text(13, 0, '13'),\n",
       "  Text(14, 0, '14'),\n",
       "  Text(15, 0, '15')])"
      ]
     },
     "execution_count": 39,
     "metadata": {},
     "output_type": "execute_result"
    },
    {
     "data": {
      "image/png": "[encoded data removed]",
      "text/plain": [
       "<Figure size 1000x600 with 1 Axes>"
      ]
     },
     "metadata": {},
     "output_type": "display_data"
    }
   ],
   "source": [
    "# Using matplotlib to visualize the distribution of the number of ships in the images\n",
    "import matplotlib.pyplot as plt\n",
    "\n",
    "labels = ship_counts_distribution.index.tolist()\n",
    "counts = ship_counts_distribution.values.tolist()\n",
    "\n",
    "colors = plt.cm.get_cmap('tab20', len(labels))\n",
    "\n",
    "plt.figure(figsize=(10, 6))\n",
    "bars = plt.bar(labels, counts, color=[colors(i) for i in np.arange(len(labels))])\n",
    "plt.xlabel('The number of ships in the image')\n",
    "plt.ylabel('Number of images')\n",
    "plt.title('Distribution of the number of ships in the images')\n",
    "plt.xticks(labels)"
   ]
  },
  {
   "cell_type": "code",
   "execution_count": 40,
   "id": "7691eb27-58c8-4324-8452-b649d360bceb",
   "metadata": {},
   "outputs": [
    {
     "data": {
      "text/plain": [
       "Text(0, 0.5, 'Number of Image')"
      ]
     },
     "execution_count": 40,
     "metadata": {},
     "output_type": "execute_result"
    },
    {
     "data": {
      "image/png": "[encoded data removed]",
      "text/plain": [
       "<Figure size 1000x600 with 1 Axes>"
      ]
     },
     "metadata": {},
     "output_type": "display_data"
    }
   ],
   "source": [
    "# Using matplotlib to visualize the distribution of images with and without ships\n",
    "labels = ['Without ships', 'With ships']\n",
    "counts = [no_ship_records, ship_records]\n",
    "plt.figure(figsize=(10, 6))\n",
    "plt.bar(labels, counts, color=['blue', 'yellow'])\n",
    "plt.title('Distribution of Images with and without Ships')\n",
    "plt.xlabel('Category')\n",
    "plt.ylabel('Number of Image')"
   ]
  },
  {
   "cell_type": "code",
   "execution_count": null,
   "id": "544461d7-e25b-4d0c-a426-2a37eaede09b",
   "metadata": {},
   "outputs": [],
   "source": [
    "# Function to check if images are valid\n",
    "import os\n",
    "from PIL import Image, UnidentifiedImageError\n",
    "\n",
    "def is_valid_image(image_path):\n",
    "    try:\n",
    "        with Image.open(image_path) as img:\n",
    "            img.verify()\n",
    "        return True\n",
    "    except (UnidentifiedImageError, IOError) as e:\n",
    "        print(f\"Error reading image {image_path}: {e}\")\n",
    "        return False\n",
    "    \n",
    "# Function to check all images in a directory and report broken files\n",
    "def check_images(data_dir, labels):\n",
    "    broken_files = []\n",
    "    total_files = 0\n",
    "    \n",
    "    for label in labels:\n",
    "        folder = os.path.join(data_dir, label)\n",
    "        for filename in os.listdir(folder):\n",
    "            if filename.endswith('.jpg'):\n",
    "                image_path = os.path.join(folder, filename)\n",
    "                total_files += 1\n",
    "                if not is_valid_image(image_path):\n",
    "                    broken_files.append(image_path)\n",
    "    \n",
    "    print(f\"Total files checked: {total_files}\")\n",
    "    print(f\"Number of broken files: {len(broken_files)}\")\n",
    "    if broken_files:\n",
    "        print(\"Broken files:\")\n",
    "        for file in broken_files:\n",
    "            print(file)\n",
    "\n",
    "check_images(data_dir, labels)\n"
   ]
  },
  {
   "cell_type": "code",
   "execution_count": 5,
   "id": "a7059743-4905-4a75-ad68-fab849c48e44",
   "metadata": {},
   "outputs": [],
   "source": [
    "# Create directories for organized images if they don't exist\n",
    "image_folder = r'D:\\Train\\data\\train_v2'\n",
    "ships_folder = 'ships1'\n",
    "no_ships_folder = 'no_ships1'\n",
    "if not os.path.exists(ships_folder):\n",
    "    os.makedirs(ships_folder)\n",
    "if not os.path.exists(no_ships_folder):\n",
    "    os.makedirs(no_ships_folder)"
   ]
  },
  {
   "cell_type": "code",
   "execution_count": 7,
   "id": "ce7cd95e-e69c-46af-9e56-4d959ddf34cf",
   "metadata": {},
   "outputs": [],
   "source": [
    "# Function to move images based on ship presence in metadata\n",
    "def move_files(row):\n",
    "    image_id = row['ImageId']\n",
    "    encoded_pixels = row['EncodedPixels']\n",
    "    source_path = os.path.join(image_folder, image_id)\n",
    "    if pd.isna(encoded_pixels):\n",
    "         destination_path = os.path.join(no_ships_folder, image_id)\n",
    "    else:\n",
    "        destination_path = os.path.join(ships_folder, image_id)\n",
    "    \n",
    "    if os.path.exists(source_path):\n",
    "        shutil.copy(source_path, destination_path)"
   ]
  },
  {
   "cell_type": "code",
   "execution_count": 8,
   "id": "3b6fd4e1-537f-4c8f-ad5d-3fc8e11c4086",
   "metadata": {},
   "outputs": [
    {
     "data": {
      "text/plain": [
       "0         None\n",
       "1         None\n",
       "2         None\n",
       "3         None\n",
       "4         None\n",
       "          ... \n",
       "231718    None\n",
       "231719    None\n",
       "231720    None\n",
       "231721    None\n",
       "231722    None\n",
       "Length: 231723, dtype: object"
      ]
     },
     "execution_count": 8,
     "metadata": {},
     "output_type": "execute_result"
    }
   ],
   "source": [
    "# Run a function to move files based on metadata\n",
    "df.apply(move_files, axis=1)"
   ]
  }
 ],
 "metadata": {
  "kernelspec": {
   "display_name": "Python 3 (ipykernel)",
   "language": "python",
   "name": "python3"
  },
  "language_info": {
   "codemirror_mode": {
    "name": "ipython",
    "version": 3
   },
   "file_extension": ".py",
   "mimetype": "text/x-python",
   "name": "python",
   "nbconvert_exporter": "python",
   "pygments_lexer": "ipython3",
   "version": "3.9.0"
  }
 },
 "nbformat": 4,
 "nbformat_minor": 5
}
